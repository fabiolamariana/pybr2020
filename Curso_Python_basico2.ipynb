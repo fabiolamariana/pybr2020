{
  "nbformat": 4,
  "nbformat_minor": 0,
  "metadata": {
    "colab": {
      "name": "Curso_Python_basico2.ipynb",
      "provenance": [],
      "collapsed_sections": []
    },
    "kernelspec": {
      "name": "python3",
      "display_name": "Python 3"
    }
  },
  "cells": [
    {
      "cell_type": "markdown",
      "metadata": {
        "id": "0MBMStB7LWvb"
      },
      "source": [
        "#Introdução ao Python usando Jupyter Notebook no Google Colab para Engenharia\n",
        "\n",
        "<br>\n",
        "profa. Dra. Fabíola Ribeiro\n",
        "\n",
        "---\n"
      ]
    },
    {
      "cell_type": "markdown",
      "metadata": {
        "id": "5CFYOQPIK_5-"
      },
      "source": [
        "O Google Colab nos permite criar, editar e executar notebooks diretamente na nuvem, sem a necessidade de instalar programas ou compiladores. Ele pode ser acessado em <https://colab.research.google.com/>.\n",
        "\n",
        "O notebook é uma ferramenta que permite executar blocos de programas em linguagens de programação como o Python. \n",
        "\n",
        "A linguagem Python foi criada em 1991 por Guido van Hossum, com a idéia de melhorar a legibilidade do código.\n",
        " \n",
        "![](https://www.python.org/static/community_logos/python-logo-master-v3-TM.png) \n",
        "\n",
        "Para executar o bloco devemos clicar ctrl+'+' ou clicar no botão de \"play\" que aparece à esquerda da célula de programação (code).\n"
      ]
    },
    {
      "cell_type": "markdown",
      "metadata": {
        "id": "3rm2vxrNwR1F"
      },
      "source": [
        "---\n",
        "\n",
        "## Começando a programar \n",
        "\n",
        "![alt text](https://transmitter.ieee.org/wp-content/uploads/2017/09/programminglanguages-620x290.jpg)\n",
        "  \n",
        "#####Disponível em <https://transmitter.ieee.org/wp-content/uploads/2017/09/programminglanguages-620x290.jpg>. Acesso em 22 fev. 2019."
      ]
    },
    {
      "cell_type": "markdown",
      "metadata": {
        "id": "OJhXyNhaLidK"
      },
      "source": [
        "Na célula a seguir vamos fazer nosso primeiro bloco de comando em Python, com objetivo de escrever uma frase na tela.\n",
        "\n",
        "Execute o bloco clicando nele e depois com o comando `ctrl +` ou clicando no botão de play. O resultado da execução será mostrado logo abaixo."
      ]
    },
    {
      "cell_type": "code",
      "metadata": {
        "id": "aqGoy02qL0xk",
        "outputId": "e2aee36c-fcf6-4892-b851-aa0a97c94616",
        "colab": {
          "base_uri": "https://localhost:8080/",
          "height": 35
        }
      },
      "source": [
        "print(\"Meu primeiro código Python\")"
      ],
      "execution_count": null,
      "outputs": [
        {
          "output_type": "stream",
          "text": [
            "Meu primeiro código Python\n"
          ],
          "name": "stdout"
        }
      ]
    },
    {
      "cell_type": "markdown",
      "metadata": {
        "id": "uwudHf5QMFiV"
      },
      "source": [
        "Para escrever uma frase na tela, usamos a função `print()`, passando o texto, entre aspas, como argumento da função. As aspas podem ser duplas ou simples.\n",
        "\n",
        "É sempre  útil colocar comentários nos programas. Os comentários são colocados após o símbolo \n",
        "`#`. Os comentários são ignorados durante a execução do programa.\n",
        "\n",
        "\n",
        "\n",
        "\n",
        "---"
      ]
    },
    {
      "cell_type": "markdown",
      "metadata": {
        "id": "_2IKZ3ZYO9cU"
      },
      "source": [
        "Na célula seguinte, escreva um código Python para escrever seu primeiro nome."
      ]
    },
    {
      "cell_type": "code",
      "metadata": {
        "id": "gVkfufWRPD_a"
      },
      "source": [
        ""
      ],
      "execution_count": null,
      "outputs": []
    },
    {
      "cell_type": "markdown",
      "metadata": {
        "id": "068mfmRgMdNB"
      },
      "source": [
        "---\n",
        "\n",
        "Podemos também escrever números. No exemplo seguinte, é impresso na tela o número 5."
      ]
    },
    {
      "cell_type": "code",
      "metadata": {
        "id": "BUfVm6roMWB5"
      },
      "source": [
        "print(5)"
      ],
      "execution_count": null,
      "outputs": []
    },
    {
      "cell_type": "code",
      "metadata": {
        "id": "sLCPC1cVMhCn"
      },
      "source": [
        "print('5')"
      ],
      "execution_count": null,
      "outputs": []
    },
    {
      "cell_type": "markdown",
      "metadata": {
        "id": "FvY9YWSpw3gG"
      },
      "source": [
        "Qual a diferença entre os dois exemplos? No primeiro imprimimos um número, pois o 5 foi passado como argumento da função sem estar entre aspas. Já no segundo exemplo, colocamos o número 5 entre aspas, então estamos imprimindo o caracter 5. Um pouco mais adiante vamos ver um pouco mais sobre tipos de variáveis."
      ]
    },
    {
      "cell_type": "markdown",
      "metadata": {
        "id": "Ex7DhZlJxIXo"
      },
      "source": [
        "---\n",
        "\n",
        "##Fazendo cálculos\n",
        "\n",
        "![alt text](https://encrypted-tbn0.gstatic.com/images?q=tbn:ANd9GcTlEF057S0SLxCvaX1Lphh3y9cb1kD2FVritTdZ2k14wcwIS1yR_g)\n",
        "\n",
        "##### Disponível em <https://encrypted-tbn0.gstatic.com/images?q=tbn:ANd9GcTlEF057S0SLxCvaX1Lphh3y9cb1kD2FVritTdZ2k14wcwIS1yR_g>. Acesso em 22 fev. 2019."
      ]
    },
    {
      "cell_type": "markdown",
      "metadata": {
        "id": "NWoPdLggMR-5"
      },
      "source": [
        "Podemos escrever códigos Python para fazer cálculos. A seguir calculamos o resultado de 2+2 e o resultado de 418/7."
      ]
    },
    {
      "cell_type": "code",
      "metadata": {
        "id": "09p38d9NMwmm",
        "outputId": "9c0664aa-d816-47c2-e4cd-6409a8266bf4",
        "colab": {
          "base_uri": "https://localhost:8080/",
          "height": 35
        }
      },
      "source": [
        "2+2"
      ],
      "execution_count": null,
      "outputs": [
        {
          "output_type": "execute_result",
          "data": {
            "text/plain": [
              "4"
            ]
          },
          "metadata": {
            "tags": []
          },
          "execution_count": 8
        }
      ]
    },
    {
      "cell_type": "code",
      "metadata": {
        "id": "MI7IbJdfMz5p",
        "outputId": "42d790a1-cc46-43a8-f134-15fc1278b63b",
        "colab": {
          "base_uri": "https://localhost:8080/",
          "height": 35
        }
      },
      "source": [
        "418/7"
      ],
      "execution_count": null,
      "outputs": [
        {
          "output_type": "execute_result",
          "data": {
            "text/plain": [
              "59.714285714285715"
            ]
          },
          "metadata": {
            "tags": []
          },
          "execution_count": 9
        }
      ]
    },
    {
      "cell_type": "markdown",
      "metadata": {
        "id": "NGnIL7BXPLaT"
      },
      "source": [
        "Use a célula seguinte para calcular o resultado da expressão matemática 12+7/4."
      ]
    },
    {
      "cell_type": "code",
      "metadata": {
        "id": "Gug84443xWol"
      },
      "source": [
        ""
      ],
      "execution_count": null,
      "outputs": []
    },
    {
      "cell_type": "markdown",
      "metadata": {
        "id": "L5x4C8Y4NguN"
      },
      "source": [
        "---\n",
        "\n",
        "Para cálculos trigonométricos precisamos importar uma biblioteca matemática, a `math`. O cálculo do cosseno de 3 radianos é feito pelo código a seguir."
      ]
    },
    {
      "cell_type": "code",
      "metadata": {
        "id": "6ublNO_GM9kP"
      },
      "source": [
        "import math   # importo a biblioteca math\n",
        "math.cos(3)   # chamo a função cos da biblioteca math, passando o número 3 como argumento"
      ],
      "execution_count": null,
      "outputs": []
    },
    {
      "cell_type": "markdown",
      "metadata": {
        "id": "WYiHdKAtOF6w"
      },
      "source": [
        "No trecho a seguir, calculamos o seno de 7 pi. Precisamos da biblioteca math para acessar também o valor de pi.\n",
        "Note que importamos a biblioteca matemática na célula anterior, então não precisamos importar a biblioteca novamente na célula seguinte. Todas as células se relacionam, estamos executando trechos de um mesmo programa, não pequenos programas individuais."
      ]
    },
    {
      "cell_type": "code",
      "metadata": {
        "id": "YBXprcfWOb6a"
      },
      "source": [
        "math.sin(7*math.pi)"
      ],
      "execution_count": null,
      "outputs": []
    },
    {
      "cell_type": "markdown",
      "metadata": {
        "id": "M8KTEcQ8Q_U8"
      },
      "source": [
        "Podemos usar a biblioteca math para exibir o valor de pi."
      ]
    },
    {
      "cell_type": "code",
      "metadata": {
        "id": "iEm-0C3iRDSF"
      },
      "source": [
        "math.pi   # imprime o valor de pi"
      ],
      "execution_count": null,
      "outputs": []
    },
    {
      "cell_type": "markdown",
      "metadata": {
        "id": "KHpGoq5hS_BM"
      },
      "source": [
        "Na célula seguinte, calcule o cosseno de 2 pi."
      ]
    },
    {
      "cell_type": "code",
      "metadata": {
        "id": "lKo0JIyjxvoG"
      },
      "source": [
        ""
      ],
      "execution_count": null,
      "outputs": []
    },
    {
      "cell_type": "markdown",
      "metadata": {
        "id": "59cbWs_-Nd-t"
      },
      "source": [
        "![alt text](http://4.bp.blogspot.com/_Lp8H7fB9ccU/TAQarhfnIgI/AAAAAAAABGE/L2I2r0FXqac/s400/happy-homer.png)\n",
        "\n",
        "#####Disponível em <http://4.bp.blogspot.com/_Lp8H7fB9ccU/TAQarhfnIgI/AAAAAAAABGE/L2I2r0FXqac/s400/happy-homer.png>. Acesso em 22 fev. 2019."
      ]
    },
    {
      "cell_type": "markdown",
      "metadata": {
        "id": "57vGLq_MxyBF"
      },
      "source": [
        "---\n",
        "\n",
        "## Variáveis"
      ]
    },
    {
      "cell_type": "markdown",
      "metadata": {
        "id": "3ki6vbp4TEmq"
      },
      "source": [
        "Variáveis são uteis em programação para armazenar dados durante a execução de um programa. As variáveis podem ser numéricas, para armazenar um caracter, uma sequência de caracteres e etc. A vantagem da programação em python é que não precisamos definir as variáveis no início do programa, como faríamos se programássemos em linguagem C, por exemplo."
      ]
    },
    {
      "cell_type": "markdown",
      "metadata": {
        "id": "uhkhFhMrTWrp"
      },
      "source": [
        "Na célula seguinte, armazenamos o resultado do cálculo de 3+5 na variável A."
      ]
    },
    {
      "cell_type": "code",
      "metadata": {
        "id": "rirJWwAlTo44"
      },
      "source": [
        "A=3+5"
      ],
      "execution_count": null,
      "outputs": []
    },
    {
      "cell_type": "markdown",
      "metadata": {
        "id": "otgDYrCOTsiC"
      },
      "source": [
        "Mas não aconteceu nada?!\n",
        "Claro! \n",
        "\n",
        "O resultado está armazenado na variável mas não pedimos para imprimir o conteúdo dessa variável, o que é feito na célula seguinte."
      ]
    },
    {
      "cell_type": "code",
      "metadata": {
        "id": "ezpHmrIiT4yB"
      },
      "source": [
        "print(A)"
      ],
      "execution_count": null,
      "outputs": []
    },
    {
      "cell_type": "markdown",
      "metadata": {
        "id": "irer5-fFT7mi"
      },
      "source": [
        "Podemos usar o valor armazenado na variável A em outro cálculo, por exemplo, multiplicando por 2 e armazenando esse valor em uma variável B. Dessa vez imprimiremos o conteúdo da variável B."
      ]
    },
    {
      "cell_type": "code",
      "metadata": {
        "id": "gK8Rl7mqUGeZ"
      },
      "source": [
        "B=2*A    # multiplico o conteúdo da variável A por 2 e armazeno o resultado em B\n",
        "print(B) # imprimo o conteúdo da variável B"
      ],
      "execution_count": null,
      "outputs": []
    },
    {
      "cell_type": "markdown",
      "metadata": {
        "id": "RluVl2P5UTxo"
      },
      "source": [
        "Note que o conteúdo de A não se alterou. Para conferir vamos imprimir os conteúdos de A e B."
      ]
    },
    {
      "cell_type": "code",
      "metadata": {
        "id": "0pxeuyKgUaRf"
      },
      "source": [
        "print(\"A=\", A, \" B=\",B) # imprimimos o texto 'A=' seguido do conteúdo de A. O mesmo é feito para B."
      ],
      "execution_count": null,
      "outputs": []
    },
    {
      "cell_type": "markdown",
      "metadata": {
        "id": "BZ7uOiKlyKcC"
      },
      "source": [
        "Na célula a seguir, escreva um código python onde A=2. A variável A deve armazenar o dobro do valor atual de A. Escreva o último valor dessa variável na tela."
      ]
    },
    {
      "cell_type": "code",
      "metadata": {
        "id": "8Y2fcfFpyXwU"
      },
      "source": [
        ""
      ],
      "execution_count": null,
      "outputs": []
    },
    {
      "cell_type": "markdown",
      "metadata": {
        "id": "EMT0e18tyCuV"
      },
      "source": [
        "---\n",
        "## Entrada de dados"
      ]
    },
    {
      "cell_type": "markdown",
      "metadata": {
        "id": "AsM64EM1kuCt"
      },
      "source": [
        "Podemos também permitir que o usuário do programa armazene o valor que quiser na variável, sem fixar o valor no código do programa. Nesse caso estamos fazendo uma entrada de dados. Em python, isso é feito com a função input, como mostrado a seguir."
      ]
    },
    {
      "cell_type": "code",
      "metadata": {
        "id": "0htXWMJik-NE"
      },
      "source": [
        "print('Entre com um número de 0 a 10:') # escrevo a mensagem na tela pedindo os números\n",
        "A = input()                             # faço a leitura do valor digitado e armazeno na variável A\n",
        "print('O seu numero é', A)              # escrevo o conteúdo da variável A na tela"
      ],
      "execution_count": null,
      "outputs": []
    },
    {
      "cell_type": "markdown",
      "metadata": {
        "id": "mSNndwsv0KEI"
      },
      "source": [
        "Nesse exemplo, o dado que fornecemos como entrada é armazenado como um caracter ou uma sequência de caracteres, então se passarmos um número ele não poderá ser usado em cálculos. Para tanto, temos que converter a entrada para formato numérico."
      ]
    },
    {
      "cell_type": "markdown",
      "metadata": {
        "id": "WuR6DAwp1AiF"
      },
      "source": [
        "As variáveis podem ser numéricas, usadas em cálculos, ou de texto. As variáveis numéricas podem ser dimensionadas conforme o conteúdo que vão armazenar. Uma variável tipo `int` armazena apenas números inteiros, enquanto uma do tipo `float` armazena números com casas decimais."
      ]
    },
    {
      "cell_type": "markdown",
      "metadata": {
        "id": "n8HR_ESu1Va0"
      },
      "source": [
        "Para examinar o tipo de uma variável usamos a função `type()`. Na célula seguinte vamos verificar qual o tipo da variável A usada no exemplo anterior."
      ]
    },
    {
      "cell_type": "code",
      "metadata": {
        "id": "Ka1d9yoY1g38"
      },
      "source": [
        "type(A)    # verifico o tipo da variável A"
      ],
      "execution_count": null,
      "outputs": []
    },
    {
      "cell_type": "markdown",
      "metadata": {
        "id": "uDUkU3Yw1jct"
      },
      "source": [
        "A função retornou <str>, ou seja, A é uma string, ou  uma sequência de caracteres.\n",
        "Na célula seguinte vamos converter A para o tipo inteiro usando a função <int()>."
      ]
    },
    {
      "cell_type": "code",
      "metadata": {
        "id": "klXiazzs12AD"
      },
      "source": [
        "A=int(A)   # converto A para o tipo inteiro e armazeno novamente em A\n",
        "print(A)   # escrevo o conteúdo da variável A\n",
        "type(A)    # pergunto qual o tipo da variável A"
      ],
      "execution_count": null,
      "outputs": []
    },
    {
      "cell_type": "markdown",
      "metadata": {
        "id": "znqjKNBWybKK"
      },
      "source": [
        "---\n",
        "No exemplo a seguir, escrever um código que calcule o dobro de um número dado pelo usuário."
      ]
    },
    {
      "cell_type": "code",
      "metadata": {
        "id": "V9_uLnrsykJ2"
      },
      "source": [
        "print('Escolha um número:')              # escrevo uma mensagem na tela\n",
        "numero = int(input())                    # faço a entrada, convertendo o valor para número do tipo inteiro (int)\n",
        "numero=2*numero                          # a variável número passa a armazenar o dobro do valor que foi fornecido\n",
        "print('O dobro do seu número é', numero) # escrevo o resultado na tela"
      ],
      "execution_count": null,
      "outputs": []
    },
    {
      "cell_type": "markdown",
      "metadata": {
        "id": "KklZUDCry0xs"
      },
      "source": [
        "Podemos juntar o cálculo e a saída em uma única linha, o que é feito a seguir."
      ]
    },
    {
      "cell_type": "code",
      "metadata": {
        "id": "XQ-K14cIy6wS"
      },
      "source": [
        "print('Escolha outro número:')\n",
        "numero = int(input())\n",
        "print('O dobro do seu número é', 2*numero)"
      ],
      "execution_count": null,
      "outputs": []
    },
    {
      "cell_type": "markdown",
      "metadata": {
        "id": "MksH6j-b8c4k"
      },
      "source": [
        "---\n",
        "Ah, mas queremos mais emoção!!!\n",
        "\n",
        "![alt text](https://s.keepmeme.com/files/en_posts/20200821/59fb58e3a469e13d5d588c298813b4c6jerry-mouse-crying-in-tears.jpg)\n",
        "\n",
        "#####Disponível em <https://s.keepmeme.com/files/en_posts/20200821/59fb58e3a469e13d5d588c298813b4c6jerry-mouse-crying-in-tears.jpg>. Acesso em 22 fev. 2019.\n",
        "\n",
        "---\n",
        "\n"
      ]
    },
    {
      "cell_type": "markdown",
      "metadata": {
        "id": "kYRW77p33iyh"
      },
      "source": [
        "**Posso misturar programação com Fenômenos de Transporte?**\n",
        "\n",
        "O trecho de programa a seguir calcula a tensão de cisalhamento de um fluido, de viscosidade dada, quando esse é colocado entre placas paralelas, separadas por uma distância dada, e com velocidade entre as placas também dada. Note que certamente vamos precisar de casas decimais, então usaremos tipo float para as variáveis.\n",
        "\n",
        "Nesse exemplo devemos usar a equação da Lei de Newton para a viscosidade: $\\tau=\\mu\\frac{v}{\\epsilon}$.\n",
        "\n",
        "Os valores com casas decimais devem usar ponto como separador de decimal.\n"
      ]
    },
    {
      "cell_type": "code",
      "metadata": {
        "id": "FgrJ3Lq_4Lr8",
        "outputId": "682930cf-c978-4c47-9bcf-7f9d41bd875e",
        "colab": {
          "base_uri": "https://localhost:8080/",
          "height": 163
        }
      },
      "source": [
        "print(\"== Lei de Newton para viscosidade ==\")\n",
        "print(\"entre com a espessura do fluido (em m):\")               # entro os dados para cada variável\n",
        "espessura=float(input())\n",
        "print(\"entre com a viscosidade absoluta do fluido (em Pa.s):\")\n",
        "viscosidade=float(input())\n",
        "print(\"entre com a velocidade relativa das placas (em m/s):\")\n",
        "velocidade=float(input())\n",
        "tau=viscosidade*velocidade/espessura                            # calculo a tensão de cisalhamento\n",
        "print(\"A tensão de cisalhamento é\",tau, \"Pa\")                   # escrevo o resultado da tensão de cisalhamento na tela"
      ],
      "execution_count": null,
      "outputs": [
        {
          "output_type": "stream",
          "text": [
            "== Lei de Newton para viscosidade ==\n",
            "entre com a espessura do fluido (em m):\n",
            "3\n",
            "entre com a viscosidade absoluta do fluido (em Pa.s):\n",
            "2\n",
            "entre com a velocidade relativa das placas (em m/s):\n",
            "1\n",
            "A tensão de cisalhamento é 0.6666666666666666 Pa\n"
          ],
          "name": "stdout"
        }
      ]
    },
    {
      "cell_type": "markdown",
      "metadata": {
        "id": "F90gAxWW9lVR"
      },
      "source": [
        "Escreva na célula a seguir um trecho de programa que, dada a tensão de cisalhamento e a força tangencial, calcule a área de aplicação dessa força."
      ]
    },
    {
      "cell_type": "code",
      "metadata": {
        "id": "RhveRTb99ytU"
      },
      "source": [
        ""
      ],
      "execution_count": null,
      "outputs": []
    },
    {
      "cell_type": "markdown",
      "metadata": {
        "id": "YVe6QPqt9zun"
      },
      "source": [
        "\n",
        "\n",
        "---\n",
        "\n",
        "**E programação com Eletricidade Básica?**\n",
        "\n",
        "O trecho de programa a seguir calcula a intensidade da força elétrica entre duas cargas separadas por uma distância d fornecida. \n",
        "\n",
        "A força elétrica é dada pela Lei de Coulomb: $ F = \\frac{1}{4 \\pi \\epsilon_0} \\frac{Q.q}{d^2}$.\n",
        "\n",
        "(Usamos ** para calcular potências em python)"
      ]
    },
    {
      "cell_type": "code",
      "metadata": {
        "id": "U8u2zV0c9-sx"
      },
      "source": [
        "print(\"== Força Elétrica ==\")\n",
        "print(\"Entre com o valor das duas cargas (em C):\")   # Entrada dos dados\n",
        "Q=float(input())\n",
        "q=float(input())\n",
        "print(\"Dê a distância entre as cargas (em m):\")\n",
        "d=float(input())\n",
        "k=9*(10**9)                                          # defino a constante \n",
        "F=k*Q*q/(d**2)                                       # calculo a força elétrica\n",
        "print(\"A força é\", F, \"N\")                           # Escrevo o resultado da força elétrica na tela\n"
      ],
      "execution_count": null,
      "outputs": []
    },
    {
      "cell_type": "markdown",
      "metadata": {
        "id": "RMEq3dOs_028"
      },
      "source": [
        "Na célula a seguir, escreva um programa que, dadas duas cargas e a força entre elas, determine a distância entre as cargas.\n",
        "\n",
        "(calcular a raiz quadrada de um número é a mesma coisa que elevar o número a 1/2)."
      ]
    },
    {
      "cell_type": "code",
      "metadata": {
        "id": "-A-JBd8uJM80"
      },
      "source": [
        ""
      ],
      "execution_count": null,
      "outputs": []
    },
    {
      "cell_type": "markdown",
      "metadata": {
        "id": "4u7rSOPjARab"
      },
      "source": [
        "---\n",
        "\n",
        "**Agora com Estatística!**\n",
        "\n",
        "Dada uma sequência de 4 números, calcule a média e o desvio padrão.\n",
        "\n",
        "Lembrando que a média de um conjunto de N números $x_i$ é dada por $\\bar{x}=\\frac{\\sum_{i=1}^{N} x_i}{N}$ e o desvio padrão é dado por $\\sigma=\\sqrt{\\frac{1}{N-1}\\sum_{i=1}^{N} (x_i-\\bar{x}})^2$."
      ]
    },
    {
      "cell_type": "code",
      "metadata": {
        "id": "Z3jo5eCUAQwq"
      },
      "source": [
        "print (\"== Média e desvio padrão ==\")\n",
        "print (\"entre com 4 valores\")\n",
        "A=float(input())\n",
        "B=float(input())\n",
        "C=float(input())\n",
        "D=float(input())\n",
        "media=(A+B+C+D)/4\n",
        "desvio=(A-media)**2+(B-media)**2+(C-media)**2+(D-media)**2\n",
        "desvio=desvio/3\n",
        "desvio=(desvio)**(1/2)\n",
        "print(\"A média é\", media, \"e o desvio padrão é\")"
      ],
      "execution_count": null,
      "outputs": []
    },
    {
      "cell_type": "markdown",
      "metadata": {
        "id": "1w9pI-LgSSo3"
      },
      "source": [
        "\n",
        "---\n",
        "\n",
        "Ah, mas eu quero mais!!!\n",
        "\n",
        "* Python.org <https://www.python.org/>\n",
        "* Python para quem está começando <https://python.org.br/introducao/>\n",
        "* Python para zumbis <https://www.pycursos.com/python-para-zumbis/>\n",
        "* Introdução à Ciência da Computação com Python,  Parte 1, <https://www.coursera.org/learn/ciencia-computacao-python-conceitos>\n",
        "\n"
      ]
    }
  ]
}